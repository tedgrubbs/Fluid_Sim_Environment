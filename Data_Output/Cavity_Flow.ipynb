{
 "cells": [
  {
   "cell_type": "code",
   "execution_count": 1,
   "id": "98206639",
   "metadata": {},
   "outputs": [],
   "source": [
    "import numpy as np\n",
    "from matplotlib import pyplot as plt\n",
    "import json\n",
    "plt.style.use('dark_background')\n",
    "%matplotlib qt\n",
    "plt.style.use('dark_background')\n",
    "%matplotlib qt\n"
   ]
  },
  {
   "cell_type": "code",
   "execution_count": 2,
   "id": "7ba26f4f",
   "metadata": {},
   "outputs": [],
   "source": [
    "u = np.loadtxt('U_file.dat')[1:-1,1:-1]#[0:103,256-103:256]\n",
    "v = np.loadtxt('V_file.dat')[1:-1,1:-1]#[0:103,256-103:256]\n",
    "rho = np.loadtxt('rho_file.dat')[1:-1,1:-1]\n",
    "temp = np.loadtxt('temperature_file.dat')[1:-1,1:-1]\n",
    "energy = np.loadtxt('energy_file.dat')[1:-1,1:-1]"
   ]
  },
  {
   "cell_type": "code",
   "execution_count": 9,
   "metadata": {},
   "outputs": [],
   "source": [
    "fig = plt.figure()\n",
    "ax = fig.add_subplot(111)\n",
    "ax.imshow(np.sqrt(u**2+v**2), cmap='magma')\n",
    "# ax.imshow(rho)\n",
    "# ax.imshow(temp)\n",
    "ax.invert_yaxis()\n",
    "plt.show()"
   ]
  },
  {
   "cell_type": "code",
   "execution_count": 9,
   "id": "cebd23de",
   "metadata": {},
   "outputs": [],
   "source": [
    "fig = plt.figure()\n",
    "plt.plot(temp[:,-1],range(rho.shape[0]))\n",
    "plt.show()"
   ]
  },
  {
   "cell_type": "code",
   "execution_count": 3,
   "id": "87d842ed",
   "metadata": {},
   "outputs": [],
   "source": [
    "\n",
    "nx, ny = (u.shape[0], u.shape[1])\n",
    "x = np.linspace(0, u.shape[0], nx)\n",
    "y = np.linspace(0, u.shape[1], ny)\n",
    "\n",
    "fig = plt.figure()\n",
    "ax = fig.add_subplot(111)\n",
    "ax.set_aspect('equal')\n",
    "ax.streamplot(y,x,u,v, density=4)\n",
    "plt.show()"
   ]
  },
  {
   "cell_type": "code",
   "execution_count": 11,
   "id": "f61967b9",
   "metadata": {
    "scrolled": true
   },
   "outputs": [
    {
     "data": {
      "text/plain": [
       "<matplotlib.streamplot.StreamplotSet at 0x7f9c14d3c220>"
      ]
     },
     "execution_count": 11,
     "metadata": {},
     "output_type": "execute_result"
    }
   ],
   "source": [
    "# comparison with Dr. Borg's script\n",
    "u2 = np.loadtxt('/home/tedwing/Downloads/aZipFolder/us.dat')\n",
    "v2 = np.loadtxt('/home/tedwing/Downloads/aZipFolder/vs.dat')\n",
    "\n",
    "nx, ny = (u2.shape[0], u2.shape[1])\n",
    "x = np.linspace(0, u2.shape[0], nx)\n",
    "y = np.linspace(0, u2.shape[1], ny)\n",
    "xv, yv = np.meshgrid(x, y)\n",
    "\n",
    "fig = plt.figure()\n",
    "fig.suptitle('Borg')\n",
    "ax = fig.add_subplot(111)\n",
    "ax.set_aspect('equal')\n",
    "ax.streamplot(xv,yv, u2, v2, density=4)\n",
    "ax.streamplot(xv,yv,u,v, density=4)\n",
    "# ax.imshow(u**2+v**2, cmap='plasma')\n",
    "# ax.invert_yaxis()\n"
   ]
  },
  {
   "cell_type": "code",
   "execution_count": 14,
   "id": "e759a772",
   "metadata": {
    "scrolled": true
   },
   "outputs": [],
   "source": [
    "plt.plot(u[:,-1]**2+v[:,-1]**2, range(rho.shape[0]))\n",
    "plt.show()"
   ]
  }
 ],
 "metadata": {
  "kernelspec": {
   "display_name": "Python 3 (ipykernel)",
   "language": "python",
   "name": "python3"
  },
  "language_info": {
   "codemirror_mode": {
    "name": "ipython",
    "version": 3
   },
   "file_extension": ".py",
   "mimetype": "text/x-python",
   "name": "python",
   "nbconvert_exporter": "python",
   "pygments_lexer": "ipython3",
   "version": "3.9.7"
  }
 },
 "nbformat": 4,
 "nbformat_minor": 5
}
