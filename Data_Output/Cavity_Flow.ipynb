{
 "cells": [
  {
   "cell_type": "code",
   "execution_count": 72,
   "id": "98206639",
   "metadata": {},
   "outputs": [],
   "source": [
    "import numpy as np\n",
    "from matplotlib import pyplot as plt\n",
    "import json\n",
    "from shutil import copyfile\n",
    "from os import remove,path\n",
    "plt.style.use('dark_background')\n",
    "%matplotlib qt\n",
    "plt.style.use('dark_background')\n",
    "%matplotlib qt\n"
   ]
  },
  {
   "cell_type": "code",
   "execution_count": 144,
   "id": "7ba26f4f",
   "metadata": {},
   "outputs": [],
   "source": [
    "start = 0\n",
    "end = -1\n",
    "u = np.loadtxt('U_file.dat')[1:-1,1:-1][:,start:]\n",
    "v = np.loadtxt('V_file.dat')[1:-1,1:-1][:,start:]\n",
    "rho = np.loadtxt('rho_file.dat')[1:-1,1:-1][:,start:]\n",
    "temp = np.loadtxt('temperature_file.dat')[1:-1,1:-1][:,start:]\n",
    "p = np.loadtxt('pressure_file.dat')[1:-1,1:-1][:,:][:,start:]\n",
    "energy = np.loadtxt('energy_file.dat')[1:-1,1:-1]"
   ]
  },
  {
   "cell_type": "code",
   "execution_count": 145,
   "id": "bd3f114c",
   "metadata": {},
   "outputs": [],
   "source": [
    "plt.rc('font', size=10)\n",
    "fig = plt.figure()\n",
    "ax = fig.add_subplot(111)\n",
    "# ax.imshow(np.sqrt(u**2+v**2), cmap='magma')\n",
    "# ax.imshow(u)\n",
    "ax.imshow(temp)\n",
    "# im = ax.imshow(p)\n",
    "ax.invert_yaxis()\n",
    "ax.set_aspect('auto')\n",
    "# cbar = plt.colorbar(im)\n",
    "# cbar.set_label(\"Temperature in celsius\", rotation=0,labelpad=100)\n",
    "# plt.title(\"Mach 4 airflow at sea level\")\n",
    "plt.show()"
   ]
  },
  {
   "cell_type": "code",
   "execution_count": 57,
   "id": "69550f8d",
   "metadata": {},
   "outputs": [],
   "source": [
    "# plt.plot(np.sqrt(u**2+v**2)[15,:])\n",
    "# plt.plot(p[-2,:]/p[-1,-1])\n",
    "plt.plot(np.linspace(0,.9, temp.shape[1]), temp[-2,:])\n",
    "plt.vlines(.575,temp.min(),temp.max())\n",
    "# plt.plot(rho[-2,:]/rho[15,0])\n",
    "plt.show()"
   ]
  },
  {
   "cell_type": "code",
   "execution_count": 8,
   "id": "827f37fa",
   "metadata": {},
   "outputs": [],
   "source": [
    "plt.plot(np.linspace(0,.9, temp.shape[1]), p[-2,:])\n",
    "plt.vlines(.575,p.min(),p.max())\n",
    "plt.vlines(.225,p.min(),p.max())\n",
    "plt.show()"
   ]
  },
  {
   "cell_type": "code",
   "execution_count": 147,
   "id": "1b7778a8",
   "metadata": {},
   "outputs": [],
   "source": [
    "nx, ny = (u.shape[0], u.shape[1])\n",
    "x = np.linspace(0, u.shape[0], nx)\n",
    "y = np.linspace(0, u.shape[1], ny)\n",
    "\n",
    "fig = plt.figure()\n",
    "ax = fig.add_subplot(111)\n",
    "# ax.set_aspect('auto')\n",
    "ax.streamplot(y,x,u,v, density=4)\n",
    "# ax.imshow(temp, cmap='magma')\n",
    "plt.show()"
   ]
  },
  {
   "cell_type": "code",
   "execution_count": 16,
   "id": "bd2e4fce",
   "metadata": {},
   "outputs": [],
   "source": [
    "plt.plot(p[:,-1])\n",
    "# plt.plot(temp[:,0])\n",
    "# plt.plot(u[:,0])\n",
    "plt.show()"
   ]
  },
  {
   "cell_type": "code",
   "execution_count": 21,
   "id": "da736437",
   "metadata": {},
   "outputs": [
    {
     "data": {
      "text/plain": [
       "array([100850.32, 100850.32, 100850.32, 100850.32, 100850.32, 100850.32,\n",
       "       100850.32, 100850.32, 100850.32, 100850.32, 100850.32, 100850.32,\n",
       "       100850.32, 100850.32, 100850.32, 100850.32, 100850.32, 100850.32])"
      ]
     },
     "execution_count": 21,
     "metadata": {},
     "output_type": "execute_result"
    }
   ],
   "source": [
    "p[:,-1]"
   ]
  },
  {
   "cell_type": "code",
   "execution_count": 521,
   "id": "e20ad4aa",
   "metadata": {},
   "outputs": [],
   "source": [
    "plt.plot(p[:,0])\n",
    "plt.show()"
   ]
  },
  {
   "cell_type": "code",
   "execution_count": 531,
   "id": "4953d83d",
   "metadata": {},
   "outputs": [],
   "source": [
    "plt.plot(temp[:,-4])\n",
    "plt.show()"
   ]
  },
  {
   "cell_type": "code",
   "execution_count": 172,
   "id": "e759a772",
   "metadata": {
    "scrolled": true
   },
   "outputs": [],
   "source": [
    "dt = 7.35506e-07"
   ]
  },
  {
   "cell_type": "code",
   "execution_count": 134,
   "id": "265029b7",
   "metadata": {},
   "outputs": [],
   "source": [
    "new_file = '/home/tedwing/Desktop/Fluid_Sim_V2/Data_Output/Probe_copy.dat'\n",
    "if path.exists(new_file): remove(new_file)\n",
    "copyfile('/home/tedwing/Desktop/Fluid_Sim_V2/Data_Output/Probe.dat', new_file)\n",
    "probe = np.loadtxt(new_file)[:]\n",
    "\n",
    "\n",
    "plt.plot(np.arange(probe.shape[0]) * dt, probe)\n",
    "# plt.hlines(100840.31999999999,0,probe.shape[0])\n",
    "plt.ylabel(\"Pressure\")\n",
    "plt.xlabel(\"Time\")\n",
    "plt.show()"
   ]
  },
  {
   "cell_type": "code",
   "execution_count": 494,
   "id": "86f2bbc9",
   "metadata": {},
   "outputs": [
    {
     "data": {
      "text/plain": [
       "0.07355060000000001"
      ]
     },
     "execution_count": 494,
     "metadata": {},
     "output_type": "execute_result"
    }
   ],
   "source": [
    "dt*100000"
   ]
  },
  {
   "cell_type": "code",
   "execution_count": 252,
   "id": "a5c8dc9d",
   "metadata": {},
   "outputs": [],
   "source": [
    "r = probe[1:][start:end][::step]-probe.mean()\n",
    "theta = np.linspace(0, 2.*np.pi*2, r.shape[0])\n",
    "fig, ax = plt.subplots(subplot_kw={'projection': 'polar'})\n",
    "ax.set_rticks([0.5, 1, 1.5, 2])  # Less radial ticks\n",
    "ax.plot(theta, r)\n",
    "plt.show()"
   ]
  },
  {
   "cell_type": "code",
   "execution_count": null,
   "id": "60e0dbd5",
   "metadata": {},
   "outputs": [],
   "source": []
  }
 ],
 "metadata": {
  "kernelspec": {
   "display_name": "Python 3 (ipykernel)",
   "language": "python",
   "name": "python3"
  },
  "language_info": {
   "codemirror_mode": {
    "name": "ipython",
    "version": 3
   },
   "file_extension": ".py",
   "mimetype": "text/x-python",
   "name": "python",
   "nbconvert_exporter": "python",
   "pygments_lexer": "ipython3",
   "version": "3.9.7"
  }
 },
 "nbformat": 4,
 "nbformat_minor": 5
}
