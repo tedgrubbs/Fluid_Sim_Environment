{
 "cells": [
  {
   "cell_type": "code",
   "execution_count": 1,
   "id": "98206639",
   "metadata": {},
   "outputs": [],
   "source": [
    "import numpy as np\n",
    "from matplotlib import pyplot as plt\n",
    "import json\n",
    "plt.style.use('dark_background')\n",
    "%matplotlib qt\n",
    "plt.style.use('dark_background')\n",
    "%matplotlib qt"
   ]
  },
  {
   "cell_type": "code",
   "execution_count": 4,
   "id": "87d842ed",
   "metadata": {},
   "outputs": [
    {
     "data": {
      "text/plain": [
       "<matplotlib.streamplot.StreamplotSet at 0x7f57941d5dc0>"
      ]
     },
     "execution_count": 4,
     "metadata": {},
     "output_type": "execute_result"
    }
   ],
   "source": [
    "u = np.loadtxt('U_file.dat')[1:-1,1:-1]\n",
    "v = np.loadtxt('V_file.dat')[1:-1,1:-1]\n",
    "rho = np.loadtxt('rho_file.dat')\n",
    "nx, ny = (u.shape[0], u.shape[1])\n",
    "x = np.linspace(0, u.shape[0], nx)\n",
    "y = np.linspace(0, u.shape[1], ny)\n",
    "xv, yv = np.meshgrid(x, y)\n",
    "\n",
    "fig = plt.figure()\n",
    "ax = fig.add_subplot(111)\n",
    "ax.set_aspect('equal')\n",
    "ax.streamplot(xv,yv,u,v, density=4)"
   ]
  },
  {
   "cell_type": "code",
   "execution_count": 9,
   "id": "f61967b9",
   "metadata": {
    "scrolled": true
   },
   "outputs": [
    {
     "data": {
      "text/plain": [
       "<matplotlib.streamplot.StreamplotSet at 0x7f576ebd8c40>"
      ]
     },
     "execution_count": 9,
     "metadata": {},
     "output_type": "execute_result"
    }
   ],
   "source": [
    "# comparison with Dr. Borg's script\n",
    "u2 = np.loadtxt('/home/morn/Desktop/aZipFolder/us.dat')\n",
    "v2 = np.loadtxt('/home/morn/Desktop/aZipFolder/vs.dat')\n",
    "\n",
    "nx, ny = (u2.shape[0], u2.shape[1])\n",
    "x = np.linspace(0, 1, nx)\n",
    "y = np.linspace(0, 1, ny)\n",
    "xv, yv = np.meshgrid(x, y)\n",
    "\n",
    "fig = plt.figure()\n",
    "ax = fig.add_subplot(111)\n",
    "ax.set_aspect('equal')\n",
    "ax.streamplot(xv,yv, u2, v2, density=4, color=(u2-u)**2)\n",
    "ax.streamplot(xv,yv,u,v, density=4)\n",
    "# ax.imshow(u**2+v**2, cmap='plasma')\n",
    "# ax.invert_yaxis()\n"
   ]
  },
  {
   "cell_type": "code",
   "execution_count": 6,
   "id": "e759a772",
   "metadata": {
    "scrolled": true
   },
   "outputs": [
    {
     "data": {
      "text/plain": [
       "[<matplotlib.lines.Line2D at 0x7f5784064370>]"
      ]
     },
     "execution_count": 6,
     "metadata": {},
     "output_type": "execute_result"
    }
   ],
   "source": [
    "plt.plot((u-u2).reshape(-1))"
   ]
  },
  {
   "cell_type": "code",
   "execution_count": 10,
   "id": "c8446a60",
   "metadata": {
    "scrolled": false
   },
   "outputs": [
    {
     "data": {
      "text/plain": [
       "[<matplotlib.lines.Line2D at 0x7f1dc0410220>]"
      ]
     },
     "execution_count": 10,
     "metadata": {},
     "output_type": "execute_result"
    }
   ],
   "source": [
    "plt.plot(u[:,127],np.linspace(0, 1, ny))"
   ]
  },
  {
   "cell_type": "code",
   "execution_count": 8,
   "id": "127d9e28",
   "metadata": {},
   "outputs": [],
   "source": [
    "fig = plt.figure()\n",
    "ax = fig.add_subplot(111)\n",
    "ax.imshow(rho)\n",
    "ax.invert_yaxis()"
   ]
  },
  {
   "cell_type": "code",
   "execution_count": 7,
   "id": "d43bb05e",
   "metadata": {},
   "outputs": [],
   "source": [
    "fig = plt.figure()\n",
    "ax = fig.add_subplot(111)\n",
    "ax.imshow(u2-u)\n",
    "ax.invert_yaxis()"
   ]
  },
  {
   "cell_type": "code",
   "execution_count": 114,
   "id": "48a8981f",
   "metadata": {},
   "outputs": [],
   "source": [
    "u_pos = np.loadtxt('U_file.dat')\n",
    "v_pos = np.loadtxt('V_file.dat')\n",
    "u_neg = np.loadtxt('U_neg.dat')\n",
    "v_neg = np.loadtxt('V_neg.dat')\n",
    "# u_right = np.loadtxt('U_file_right.dat')\n",
    "# v_right = np.loadtxt('V_file_right.dat')\n",
    "# u_bottom = np.loadtxt('U_file_bottom.dat')\n",
    "# v_bottom = np.loadtxt('V_file_bottom.dat')\n",
    "# u_top = np.loadtxt('U_file_top.dat')\n",
    "# v_top = np.loadtxt('V_file_top.dat')"
   ]
  },
  {
   "cell_type": "code",
   "execution_count": 118,
   "id": "06a87f1e",
   "metadata": {},
   "outputs": [
    {
     "data": {
      "text/plain": [
       "<matplotlib.streamplot.StreamplotSet at 0x7fa508e17550>"
      ]
     },
     "execution_count": 118,
     "metadata": {},
     "output_type": "execute_result"
    }
   ],
   "source": [
    "nx, ny = (u_neg.shape[0], u_neg.shape[1])\n",
    "x = np.linspace(0, u_neg.shape[0], nx)\n",
    "y = np.linspace(0, u_neg.shape[1], ny)\n",
    "xv, yv = np.meshgrid(x, y)\n",
    "\n",
    "fig = plt.figure()\n",
    "ax = fig.add_subplot(111)\n",
    "ax.set_aspect('equal')\n",
    "# ax.streamplot(xv,yv,u_left,v_left, density=3)\n",
    "# ax.invert_xaxis()\n",
    "\n",
    "# ax.streamplot(xv,yv,u_right,v_right, density=3)\n",
    "# ax2= fig.add_subplot(111)\n",
    "\n",
    "\n",
    "ax.streamplot(xv,yv,u_neg,v_neg, density=3)\n",
    "# ax.invert_xaxis()\n",
    "\n",
    "ax.streamplot(xv,yv,u_pos,v_pos, density=3)\n"
   ]
  },
  {
   "cell_type": "code",
   "execution_count": null,
   "id": "0a595f96",
   "metadata": {},
   "outputs": [],
   "source": []
  }
 ],
 "metadata": {
  "kernelspec": {
   "display_name": "Python 3",
   "language": "python",
   "name": "python3"
  },
  "language_info": {
   "codemirror_mode": {
    "name": "ipython",
    "version": 3
   },
   "file_extension": ".py",
   "mimetype": "text/x-python",
   "name": "python",
   "nbconvert_exporter": "python",
   "pygments_lexer": "ipython3",
   "version": "3.9.5"
  }
 },
 "nbformat": 4,
 "nbformat_minor": 5
}
