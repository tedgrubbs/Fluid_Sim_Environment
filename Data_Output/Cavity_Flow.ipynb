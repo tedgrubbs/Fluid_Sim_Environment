{
 "cells": [
  {
   "cell_type": "code",
   "execution_count": 1,
   "id": "98206639",
   "metadata": {},
   "outputs": [],
   "source": [
    "import numpy as np\n",
    "from matplotlib import pyplot as plt\n",
    "import json\n",
    "plt.style.use('dark_background')\n",
    "%matplotlib qt\n",
    "plt.style.use('dark_background')\n",
    "%matplotlib qt\n"
   ]
  },
  {
   "cell_type": "code",
   "execution_count": 261,
   "id": "7ba26f4f",
   "metadata": {},
   "outputs": [],
   "source": [
    "start = 0\n",
    "end = -1\n",
    "u = np.loadtxt('U_file.dat')[1:-1,1:-1][:,start:end]\n",
    "v = np.loadtxt('V_file.dat')[1:-1,1:-1][:,start:end]\n",
    "rho = np.loadtxt('rho_file.dat')[1:-1,1:-1][:,start:end]\n",
    "temp = np.loadtxt('temperature_file.dat')[1:-1,1:-1][:,start:end]\n",
    "p = np.loadtxt('pressure_file.dat')[1:-1,1:-1][:,:]\n",
    "energy = np.loadtxt('energy_file.dat')[1:-1,1:-1]"
   ]
  },
  {
   "cell_type": "code",
   "execution_count": 262,
   "id": "bd3f114c",
   "metadata": {},
   "outputs": [],
   "source": [
    "plt.rc('font', size=10)\n",
    "fig = plt.figure()\n",
    "ax = fig.add_subplot(111)\n",
    "ax.imshow(np.sqrt(u**2+v**2), cmap='magma')\n",
    "# ax.imshow(rho)\n",
    "# ax.imshow(temp)\n",
    "# im = ax.imshow(p)\n",
    "ax.invert_yaxis()\n",
    "ax.set_aspect('auto')\n",
    "# cbar = plt.colorbar(im)\n",
    "# cbar.set_label(\"Temperature in celsius\", rotation=0,labelpad=100)\n",
    "# plt.title(\"Mach 4 airflow at sea level\")\n",
    "plt.show()"
   ]
  },
  {
   "cell_type": "code",
   "execution_count": 269,
   "id": "69550f8d",
   "metadata": {},
   "outputs": [],
   "source": [
    "# plt.plot(np.sqrt(u**2+v**2)[15,:])\n",
    "# plt.plot(p[-2,:]/p[-1,-1])\n",
    "plt.plot(np.linspace(0,.9, temp.shape[1]), temp[-2,:])\n",
    "plt.vlines(.575,temp.min(),temp.max())\n",
    "# plt.plot(rho[-2,:]/rho[15,0])\n",
    "plt.show()"
   ]
  },
  {
   "cell_type": "code",
   "execution_count": null,
   "id": "827f37fa",
   "metadata": {},
   "outputs": [],
   "source": [
    "plt.plot(np.linspace(0,.9, temp.shape[1]), p)\n",
    "plt.vlines(.575,temp.min(),temp.max())"
   ]
  },
  {
   "cell_type": "code",
   "execution_count": 241,
   "id": "1b7778a8",
   "metadata": {},
   "outputs": [],
   "source": [
    "nx, ny = (u.shape[0], u.shape[1])\n",
    "x = np.linspace(0, u.shape[0], nx)\n",
    "y = np.linspace(0, u.shape[1], ny)\n",
    "\n",
    "fig = plt.figure()\n",
    "ax = fig.add_subplot(111)\n",
    "ax.set_aspect('auto')\n",
    "ax.streamplot(y,x,u,v, density=4)\n",
    "# ax.imshow(temp, cmap='magma')\n",
    "plt.show()"
   ]
  },
  {
   "cell_type": "code",
   "execution_count": 226,
   "id": "bd2e4fce",
   "metadata": {},
   "outputs": [],
   "source": [
    "plt.plot(p[:,-1])\n",
    "# plt.plot(temp[:,-1])\n",
    "# plt.plot(rho[:,-1])\n",
    "plt.show()"
   ]
  },
  {
   "cell_type": "code",
   "execution_count": 60,
   "id": "da736437",
   "metadata": {},
   "outputs": [
    {
     "name": "stdout",
     "output_type": "stream",
     "text": [
      "287.8625803425 1.218545208 100840.32\n",
      "100672.01396975524\n"
     ]
    }
   ],
   "source": [
    "print(temp[15,-1], rho[15,-1], p[15,-1])\n",
    "print(temp[15,-1] * rho[15,-1] * 287.)"
   ]
  },
  {
   "cell_type": "code",
   "execution_count": 97,
   "id": "e20ad4aa",
   "metadata": {},
   "outputs": [],
   "source": [
    "plt.plot(temp[:,0])\n",
    "plt.show()"
   ]
  },
  {
   "cell_type": "code",
   "execution_count": 98,
   "id": "4953d83d",
   "metadata": {},
   "outputs": [],
   "source": [
    "plt.plot(u[:,0])\n",
    "plt.show()"
   ]
  },
  {
   "cell_type": "code",
   "execution_count": 172,
   "id": "e759a772",
   "metadata": {
    "scrolled": true
   },
   "outputs": [],
   "source": [
    "def f(T):\n",
    "  return 1.81e-5 * (T/288.16)**(3./2.) * ((288.16+110.) / (T+110.))"
   ]
  },
  {
   "cell_type": "code",
   "execution_count": 263,
   "id": "265029b7",
   "metadata": {},
   "outputs": [],
   "source": [
    "probe = np.loadtxt('/home/tedwing/Desktop/Fluid_Sim_V2/Data_Output/Probe (copy).dat')[:]"
   ]
  },
  {
   "cell_type": "code",
   "execution_count": 264,
   "id": "44690e94",
   "metadata": {},
   "outputs": [],
   "source": [
    "dt = 7.35506e-07\n",
    "\n",
    "plt.plot(np.arange(probe.shape[0]) * dt, probe)\n",
    "# plt.hlines(100840.31999999999,0,probe.shape[0])\n",
    "plt.ylabel(\"Pressure\")\n",
    "plt.xlabel(\"Time\")\n",
    "plt.show()"
   ]
  },
  {
   "cell_type": "code",
   "execution_count": 7,
   "id": "86f2bbc9",
   "metadata": {},
   "outputs": [
    {
     "data": {
      "text/plain": [
       "1359608.21529668"
      ]
     },
     "execution_count": 7,
     "metadata": {},
     "output_type": "execute_result"
    }
   ],
   "source": [
    "1/dt"
   ]
  },
  {
   "cell_type": "code",
   "execution_count": 252,
   "id": "a5c8dc9d",
   "metadata": {},
   "outputs": [],
   "source": [
    "r = probe[1:][start:end][::step]-probe.mean()\n",
    "theta = np.linspace(0, 2.*np.pi*2, r.shape[0])\n",
    "fig, ax = plt.subplots(subplot_kw={'projection': 'polar'})\n",
    "ax.set_rticks([0.5, 1, 1.5, 2])  # Less radial ticks\n",
    "ax.plot(theta, r)\n",
    "plt.show()"
   ]
  },
  {
   "cell_type": "code",
   "execution_count": null,
   "id": "60e0dbd5",
   "metadata": {},
   "outputs": [],
   "source": []
  }
 ],
 "metadata": {
  "kernelspec": {
   "display_name": "Python 3 (ipykernel)",
   "language": "python",
   "name": "python3"
  },
  "language_info": {
   "codemirror_mode": {
    "name": "ipython",
    "version": 3
   },
   "file_extension": ".py",
   "mimetype": "text/x-python",
   "name": "python",
   "nbconvert_exporter": "python",
   "pygments_lexer": "ipython3",
   "version": "3.9.7"
  }
 },
 "nbformat": 4,
 "nbformat_minor": 5
}
