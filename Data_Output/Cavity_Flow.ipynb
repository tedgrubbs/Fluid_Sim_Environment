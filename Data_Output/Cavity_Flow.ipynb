{
 "cells": [
  {
   "cell_type": "code",
   "execution_count": 1,
   "id": "98206639",
   "metadata": {},
   "outputs": [],
   "source": [
    "import numpy as np\n",
    "from matplotlib import pyplot as plt\n",
    "import json\n",
    "plt.style.use('dark_background')\n",
    "%matplotlib qt\n",
    "plt.style.use('dark_background')\n",
    "%matplotlib qt"
   ]
  },
  {
   "cell_type": "code",
   "execution_count": 27,
   "id": "87d842ed",
   "metadata": {},
   "outputs": [],
   "source": [
    "u = np.loadtxt('U_file.dat')[1:-1,1:-1]#[0:103,256-103:256]\n",
    "v = np.loadtxt('V_file.dat')[1:-1,1:-1]#[0:103,256-103:256]\n",
    "rho = np.loadtxt('rho_file.dat')\n",
    "# nx, ny = (u.shape[0], u.shape[1])\n",
    "# x = np.linspace(0, u.shape[0], nx)\n",
    "# y = np.linspace(0, u.shape[1], ny)\n",
    "# xv, yv = np.meshgrid(x, y)\n",
    "\n",
    "# fig = plt.figure()\n",
    "# ax = fig.add_subplot(111)\n",
    "# ax.set_aspect('equal')\n",
    "# ax.streamplot(xv,yv,u,v, density=4)"
   ]
  },
  {
   "cell_type": "code",
   "execution_count": 28,
   "id": "f61967b9",
   "metadata": {
    "scrolled": true
   },
   "outputs": [
    {
     "data": {
      "text/plain": [
       "<matplotlib.streamplot.StreamplotSet at 0x7ff447b04970>"
      ]
     },
     "execution_count": 28,
     "metadata": {},
     "output_type": "execute_result"
    }
   ],
   "source": [
    "# comparison with Dr. Borg's script\n",
    "u2 = np.loadtxt('/home/tedwing/Downloads/aZipFolder/us.dat')\n",
    "v2 = np.loadtxt('/home/tedwing/Downloads/aZipFolder/vs.dat')\n",
    "\n",
    "nx, ny = (u2.shape[0], u2.shape[1])\n",
    "x = np.linspace(0, u2.shape[0], nx)\n",
    "y = np.linspace(0, u2.shape[1], ny)\n",
    "xv, yv = np.meshgrid(x, y)\n",
    "\n",
    "fig = plt.figure()\n",
    "fig.suptitle('Borg')\n",
    "ax = fig.add_subplot(111)\n",
    "ax.set_aspect('equal')\n",
    "ax.streamplot(xv,yv, u2, v2, density=4)\n",
    "ax.streamplot(xv,yv,u,v, density=4)\n",
    "# ax.imshow(u**2+v**2, cmap='plasma')\n",
    "# ax.invert_yaxis()\n"
   ]
  },
  {
   "cell_type": "code",
   "execution_count": 20,
   "id": "e759a772",
   "metadata": {
    "scrolled": true
   },
   "outputs": [
    {
     "data": {
      "text/plain": [
       "[<matplotlib.lines.Line2D at 0x7ff44ca08130>]"
      ]
     },
     "execution_count": 20,
     "metadata": {},
     "output_type": "execute_result"
    }
   ],
   "source": [
    "plt.plot((u-u2).reshape(-1))"
   ]
  },
  {
   "cell_type": "code",
   "execution_count": 66,
   "id": "d43bb05e",
   "metadata": {},
   "outputs": [],
   "source": [
    "fig = plt.figure()\n",
    "ax = fig.add_subplot(111)\n",
    "ax.imshow(u2-u)\n",
    "ax.invert_yaxis()"
   ]
  },
  {
   "cell_type": "code",
   "execution_count": 11,
   "id": "48a8981f",
   "metadata": {},
   "outputs": [],
   "source": [
    "u_pos = np.loadtxt('U_file_pos.dat')\n",
    "v_pos = np.loadtxt('V_file_pos.dat')\n",
    "u_neg = np.loadtxt('U_file.dat')\n",
    "v_neg = np.loadtxt('V_file.dat')\n",
    "# u_right = np.loadtxt('U_file_right.dat')\n",
    "# v_right = np.loadtxt('V_file_right.dat')\n",
    "# u_bottom = np.loadtxt('U_file_bottom.dat')\n",
    "# v_bottom = np.loadtxt('V_file_bottom.dat')\n",
    "# u_top = np.loadtxt('U_file_top.dat')\n",
    "# v_top = np.loadtxt('V_file_top.dat')"
   ]
  },
  {
   "cell_type": "code",
   "execution_count": 12,
   "id": "06a87f1e",
   "metadata": {},
   "outputs": [
    {
     "data": {
      "text/plain": [
       "<matplotlib.streamplot.StreamplotSet at 0x7f7b609acb80>"
      ]
     },
     "execution_count": 12,
     "metadata": {},
     "output_type": "execute_result"
    }
   ],
   "source": [
    "nx, ny = (u_neg.shape[0], u_neg.shape[1])\n",
    "x = np.linspace(0, u_neg.shape[0], nx)\n",
    "y = np.linspace(0, u_neg.shape[1], ny)\n",
    "xv, yv = np.meshgrid(x, y)\n",
    "\n",
    "fig = plt.figure()\n",
    "ax = fig.add_subplot(111)\n",
    "ax.set_aspect('equal')\n",
    "# ax.streamplot(xv,yv,u_left,v_left, density=3)\n",
    "# ax.invert_xaxis()\n",
    "\n",
    "# ax.streamplot(xv,yv,u_right,v_right, density=3)\n",
    "# ax2= fig.add_subplot(111)\n",
    "\n",
    "\n",
    "ax.streamplot(xv,yv,u_neg,v_neg, density=3)\n",
    "# ax.invert_xaxis()\n",
    "\n",
    "ax.streamplot(xv,yv,u_pos,v_pos, density=3)\n"
   ]
  },
  {
   "cell_type": "code",
   "execution_count": 30,
   "id": "0a595f96",
   "metadata": {},
   "outputs": [
    {
     "data": {
      "text/plain": [
       "array([-9.465e-05])"
      ]
     },
     "execution_count": 30,
     "metadata": {},
     "output_type": "execute_result"
    }
   ],
   "source": [
    "\n",
    "u2[u!=u2]"
   ]
  },
  {
   "cell_type": "code",
   "execution_count": 31,
   "id": "a82bdb29",
   "metadata": {},
   "outputs": [
    {
     "data": {
      "text/plain": [
       "array([-9.464e-05])"
      ]
     },
     "execution_count": 31,
     "metadata": {},
     "output_type": "execute_result"
    }
   ],
   "source": [
    "u[u!=u2]"
   ]
  },
  {
   "cell_type": "code",
   "execution_count": 184,
   "id": "453006a3",
   "metadata": {},
   "outputs": [],
   "source": [
    "visc= 1.81e-5\n",
    "c = 347.\n",
    "rho = 1.22\n",
    "u = 0.01*c\n",
    "length = .1"
   ]
  },
  {
   "cell_type": "code",
   "execution_count": 185,
   "id": "49ce95e5",
   "metadata": {},
   "outputs": [
    {
     "data": {
      "text/plain": [
       "23388.950276243097"
      ]
     },
     "execution_count": 185,
     "metadata": {},
     "output_type": "execute_result"
    }
   ],
   "source": [
    "(rho*u*length)/visc"
   ]
  },
  {
   "cell_type": "code",
   "execution_count": null,
   "id": "43397030",
   "metadata": {},
   "outputs": [],
   "source": []
  }
 ],
 "metadata": {
  "kernelspec": {
   "display_name": "Python 3 (ipykernel)",
   "language": "python",
   "name": "python3"
  },
  "language_info": {
   "codemirror_mode": {
    "name": "ipython",
    "version": 3
   },
   "file_extension": ".py",
   "mimetype": "text/x-python",
   "name": "python",
   "nbconvert_exporter": "python",
   "pygments_lexer": "ipython3",
   "version": "3.9.7"
  }
 },
 "nbformat": 4,
 "nbformat_minor": 5
}
