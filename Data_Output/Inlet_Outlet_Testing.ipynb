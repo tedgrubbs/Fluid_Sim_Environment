{
 "cells": [
  {
   "cell_type": "code",
   "execution_count": 1,
   "id": "98206639",
   "metadata": {},
   "outputs": [],
   "source": [
    "import numpy as np\n",
    "from matplotlib import pyplot as plt\n",
    "import json\n",
    "plt.style.use('dark_background')\n",
    "%matplotlib qt\n",
    "plt.style.use('dark_background')\n",
    "%matplotlib qt"
   ]
  },
  {
   "cell_type": "code",
   "execution_count": 33,
   "id": "87d842ed",
   "metadata": {},
   "outputs": [],
   "source": [
    "u = np.loadtxt('U_file.dat')[1:-1,1:-1][:,:]\n",
    "v = np.loadtxt('V_file.dat')[1:-1,1:-1][:,:]\n",
    "rho = np.loadtxt('rho_file.dat')\n",
    "\n",
    "fig = plt.figure()\n",
    "ax = fig.add_subplot(111)\n",
    "ax.imshow(rho, cmap='magma')\n",
    "ax.axis('equal')\n",
    "ax.invert_yaxis()\n",
    "\n",
    "# nx, ny = (u.shape[0], u.shape[1])\n",
    "# x = np.linspace(0, u.shape[0], nx)\n",
    "# y = np.linspace(0, u.shape[1], ny)\n",
    "# xv, yv = np.meshgrid(x, y)\n",
    "\n",
    "# fig = plt.figure()\n",
    "# ax = fig.add_subplot(111)\n",
    "# ax.set_aspect('equal')\n",
    "# ax.streamplot(xv,yv,u,v, density=2)"
   ]
  },
  {
   "cell_type": "code",
   "execution_count": 33,
   "id": "46e8ca77",
   "metadata": {},
   "outputs": [
    {
     "data": {
      "text/plain": [
       "<matplotlib.contour.QuadContourSet at 0x7fa0cd96aee0>"
      ]
     },
     "execution_count": 33,
     "metadata": {},
     "output_type": "execute_result"
    }
   ],
   "source": [
    "fig = plt.figure()\n",
    "ax = fig.add_subplot(111)\n",
    "ax.set_aspect('equal')\n",
    "ax.contour(xv,yv,u**2+v**2, 10)"
   ]
  },
  {
   "cell_type": "code",
   "execution_count": 37,
   "id": "d43bb05e",
   "metadata": {},
   "outputs": [],
   "source": [
    "fig = plt.figure()\n",
    "ax = fig.add_subplot(111)\n",
    "ax.imshow(u**2+v**2, cmap='magma')\n",
    "ax.axis('equal')\n",
    "ax.invert_yaxis()"
   ]
  },
  {
   "cell_type": "code",
   "execution_count": 24,
   "id": "43397030",
   "metadata": {},
   "outputs": [],
   "source": [
    "fig = plt.figure()\n",
    "ax = fig.add_subplot(111)\n",
    "ax.imshow(rho)\n",
    "\n",
    "ax.invert_yaxis()"
   ]
  },
  {
   "cell_type": "code",
   "execution_count": 28,
   "id": "20334846",
   "metadata": {},
   "outputs": [],
   "source": [
    "u = np.loadtxt('U_file.dat')[1:-1,80:180]\n",
    "v = np.loadtxt('V_file.dat')[1:-1,80:180]\n",
    "rho = np.loadtxt('rho_file.dat')\n",
    "\n",
    "fig = plt.figure()\n",
    "ax = fig.add_subplot(111)\n",
    "ax.imshow(u**2+v**2, cmap='magma')\n",
    "ax.axis('equal')\n",
    "ax.invert_yaxis()\n"
   ]
  },
  {
   "cell_type": "code",
   "execution_count": 29,
   "id": "322f6547",
   "metadata": {},
   "outputs": [
    {
     "data": {
      "text/plain": [
       "<matplotlib.streamplot.StreamplotSet at 0x7f645d671d00>"
      ]
     },
     "execution_count": 29,
     "metadata": {},
     "output_type": "execute_result"
    }
   ],
   "source": [
    "nx, ny = (u.shape[0], u.shape[1])\n",
    "x = np.linspace(0, u.shape[0], nx)\n",
    "y = np.linspace(0, u.shape[1], ny)\n",
    "xv, yv = np.meshgrid(x, y)\n",
    "\n",
    "fig = plt.figure()\n",
    "ax = fig.add_subplot(111)\n",
    "ax.set_aspect('equal')\n",
    "ax.streamplot(xv,yv,u,v, density=4)"
   ]
  },
  {
   "cell_type": "code",
   "execution_count": 18,
   "id": "139648fa",
   "metadata": {},
   "outputs": [],
   "source": [
    "unew = np.loadtxt('/home/tedwing/Desktop/Fluid_Sim_V2/Data_Output/U_file.dat')[1:-1,1:-1]\n",
    "vnew = np.loadtxt('/home/tedwing/Desktop/Fluid_Sim_V2/Data_Output/V_file.dat')[1:-1,1:-1]\n",
    "rho = np.loadtxt('rho_file.dat')"
   ]
  },
  {
   "cell_type": "code",
   "execution_count": 24,
   "id": "9515d019",
   "metadata": {},
   "outputs": [],
   "source": [
    "fig = plt.figure()\n",
    "ax = fig.add_subplot(111)\n",
    "ax.imshow((vnew-v), cmap='magma')\n",
    "ax.axis('equal')\n",
    "ax.invert_yaxis()"
   ]
  },
  {
   "cell_type": "code",
   "execution_count": 21,
   "id": "180fd70a",
   "metadata": {},
   "outputs": [],
   "source": [
    "fig = plt.figure()\n",
    "ax = fig.add_subplot(111)\n",
    "ax.imshow((u), cmap='magma')\n",
    "ax.axis('equal')\n",
    "ax.invert_yaxis()"
   ]
  },
  {
   "cell_type": "code",
   "execution_count": null,
   "id": "78ce50bf",
   "metadata": {},
   "outputs": [],
   "source": []
  }
 ],
 "metadata": {
  "kernelspec": {
   "display_name": "Python 3 (ipykernel)",
   "language": "python",
   "name": "python3"
  },
  "language_info": {
   "codemirror_mode": {
    "name": "ipython",
    "version": 3
   },
   "file_extension": ".py",
   "mimetype": "text/x-python",
   "name": "python",
   "nbconvert_exporter": "python",
   "pygments_lexer": "ipython3",
   "version": "3.9.7"
  }
 },
 "nbformat": 4,
 "nbformat_minor": 5
}
