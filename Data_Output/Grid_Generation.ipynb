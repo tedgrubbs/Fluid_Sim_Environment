{
 "cells": [
  {
   "cell_type": "code",
   "execution_count": 1,
   "id": "98206639",
   "metadata": {},
   "outputs": [],
   "source": [
    "import numpy as np\n",
    "from matplotlib import pyplot as plt\n",
    "import json\n",
    "plt.style.use('dark_background')\n",
    "%matplotlib qt\n",
    "plt.style.use('dark_background')\n",
    "%matplotlib qt\n"
   ]
  },
  {
   "cell_type": "code",
   "execution_count": 49,
   "id": "2a60b0e8",
   "metadata": {},
   "outputs": [],
   "source": [
    "z = np.linspace(-10, 10, 256) \n",
    "def sigmoid(z):\n",
    "    return 1/(1 + np.exp(-z/3))\n",
    "\n",
    "a = sigmoid(z)\n"
   ]
  },
  {
   "cell_type": "code",
   "execution_count": 50,
   "id": "7e89f8a7",
   "metadata": {},
   "outputs": [],
   "source": [
    "for y in a:\n",
    "  plt.plot(a, np.zeros_like(a)+y,'g')\n",
    "for y in a:\n",
    "  plt.plot(np.zeros_like(a)+y, a,'g')\n",
    "\n",
    "plt.show()"
   ]
  },
  {
   "cell_type": "code",
   "execution_count": 26,
   "id": "aae5ce92",
   "metadata": {},
   "outputs": [
    {
     "data": {
      "text/plain": [
       "(100,)"
      ]
     },
     "execution_count": 26,
     "metadata": {},
     "output_type": "execute_result"
    }
   ],
   "source": [
    "a.shape"
   ]
  },
  {
   "cell_type": "code",
   "execution_count": null,
   "id": "598f6a1c",
   "metadata": {},
   "outputs": [],
   "source": []
  }
 ],
 "metadata": {
  "kernelspec": {
   "display_name": "Python 3 (ipykernel)",
   "language": "python",
   "name": "python3"
  },
  "language_info": {
   "codemirror_mode": {
    "name": "ipython",
    "version": 3
   },
   "file_extension": ".py",
   "mimetype": "text/x-python",
   "name": "python",
   "nbconvert_exporter": "python",
   "pygments_lexer": "ipython3",
   "version": "3.9.7"
  }
 },
 "nbformat": 4,
 "nbformat_minor": 5
}
